{
  "nbformat": 4,
  "nbformat_minor": 0,
  "metadata": {
    "colab": {
      "name": "RF_RandomizedSearchCV.ipynb",
      "provenance": [],
      "mount_file_id": "1PIRJZwJ_mPBU7tHBBMKwZI5kYeVZVq_O",
      "authorship_tag": "ABX9TyMWtULiKHmlYtROu/4VFq5v",
      "include_colab_link": true
    },
    "kernelspec": {
      "name": "python3",
      "display_name": "Python 3"
    }
  },
  "cells": [
    {
      "cell_type": "markdown",
      "metadata": {
        "id": "view-in-github",
        "colab_type": "text"
      },
      "source": [
        "<a href=\"https://colab.research.google.com/github/Darkdew/RFRandomizedSearchCV/blob/master/RF_RandomizedSearchCV.ipynb\" target=\"_parent\"><img src=\"https://colab.research.google.com/assets/colab-badge.svg\" alt=\"Open In Colab\"/></a>"
      ]
    },
    {
      "cell_type": "code",
      "metadata": {
        "id": "UgzjEFsqbu18",
        "colab_type": "code",
        "colab": {}
      },
      "source": [
        "import pandas as pd\n",
        "import numpy as np\n",
        "import matplotlib.pyplot as plt\n",
        "%matplotlib inline"
      ],
      "execution_count": 0,
      "outputs": []
    },
    {
      "cell_type": "code",
      "metadata": {
        "id": "MGYxxfZ2dMGb",
        "colab_type": "code",
        "outputId": "e712ce9b-49d6-4647-bbeb-027b30eada85",
        "colab": {
          "base_uri": "https://localhost:8080/",
          "height": 202
        }
      },
      "source": [
        "df= pd.read_csv('/content/drive/My Drive/Colab Notebooks/RF_RandomizedSearchCV/Social_Network_Ads.csv')\n",
        "df.head()"
      ],
      "execution_count": 2,
      "outputs": [
        {
          "output_type": "execute_result",
          "data": {
            "text/html": [
              "<div>\n",
              "<style scoped>\n",
              "    .dataframe tbody tr th:only-of-type {\n",
              "        vertical-align: middle;\n",
              "    }\n",
              "\n",
              "    .dataframe tbody tr th {\n",
              "        vertical-align: top;\n",
              "    }\n",
              "\n",
              "    .dataframe thead th {\n",
              "        text-align: right;\n",
              "    }\n",
              "</style>\n",
              "<table border=\"1\" class=\"dataframe\">\n",
              "  <thead>\n",
              "    <tr style=\"text-align: right;\">\n",
              "      <th></th>\n",
              "      <th>User ID</th>\n",
              "      <th>Gender</th>\n",
              "      <th>Age</th>\n",
              "      <th>EstimatedSalary</th>\n",
              "      <th>Purchased</th>\n",
              "    </tr>\n",
              "  </thead>\n",
              "  <tbody>\n",
              "    <tr>\n",
              "      <th>0</th>\n",
              "      <td>15624510</td>\n",
              "      <td>Male</td>\n",
              "      <td>19</td>\n",
              "      <td>19000</td>\n",
              "      <td>0</td>\n",
              "    </tr>\n",
              "    <tr>\n",
              "      <th>1</th>\n",
              "      <td>15810944</td>\n",
              "      <td>Male</td>\n",
              "      <td>35</td>\n",
              "      <td>20000</td>\n",
              "      <td>0</td>\n",
              "    </tr>\n",
              "    <tr>\n",
              "      <th>2</th>\n",
              "      <td>15668575</td>\n",
              "      <td>Female</td>\n",
              "      <td>26</td>\n",
              "      <td>43000</td>\n",
              "      <td>0</td>\n",
              "    </tr>\n",
              "    <tr>\n",
              "      <th>3</th>\n",
              "      <td>15603246</td>\n",
              "      <td>Female</td>\n",
              "      <td>27</td>\n",
              "      <td>57000</td>\n",
              "      <td>0</td>\n",
              "    </tr>\n",
              "    <tr>\n",
              "      <th>4</th>\n",
              "      <td>15804002</td>\n",
              "      <td>Male</td>\n",
              "      <td>19</td>\n",
              "      <td>76000</td>\n",
              "      <td>0</td>\n",
              "    </tr>\n",
              "  </tbody>\n",
              "</table>\n",
              "</div>"
            ],
            "text/plain": [
              "    User ID  Gender  Age  EstimatedSalary  Purchased\n",
              "0  15624510    Male   19            19000          0\n",
              "1  15810944    Male   35            20000          0\n",
              "2  15668575  Female   26            43000          0\n",
              "3  15603246  Female   27            57000          0\n",
              "4  15804002    Male   19            76000          0"
            ]
          },
          "metadata": {
            "tags": []
          },
          "execution_count": 2
        }
      ]
    },
    {
      "cell_type": "code",
      "metadata": {
        "id": "aYO-4V1-fFju",
        "colab_type": "code",
        "colab": {}
      },
      "source": [
        "X= df.iloc[:, [2,3]].values\n",
        "y= df.iloc[:, 4].values"
      ],
      "execution_count": 0,
      "outputs": []
    },
    {
      "cell_type": "code",
      "metadata": {
        "id": "tKib6ougfU30",
        "colab_type": "code",
        "colab": {}
      },
      "source": [
        "from sklearn.model_selection import train_test_split\n",
        "X_train, X_test, y_train, y_test= train_test_split(X,y, test_size=0.2, random_state=7)"
      ],
      "execution_count": 0,
      "outputs": []
    },
    {
      "cell_type": "code",
      "metadata": {
        "id": "VK54Q0StfwPD",
        "colab_type": "code",
        "colab": {}
      },
      "source": [
        "from sklearn.preprocessing import StandardScaler\n",
        "ss= StandardScaler()\n",
        "X_train= ss.fit_transform(X_train)\n",
        "X_test= ss.transform(X_test)"
      ],
      "execution_count": 0,
      "outputs": []
    },
    {
      "cell_type": "code",
      "metadata": {
        "id": "g2mQhrqmcGZH",
        "colab_type": "code",
        "colab": {
          "base_uri": "https://localhost:8080/",
          "height": 156
        },
        "outputId": "9ca8a5fe-ed14-4b10-8e38-0b6c3d7bbfb8"
      },
      "source": [
        "#fitting RandomForestClassifier\n",
        "\n",
        "from sklearn.ensemble import RandomForestClassifier\n",
        "\n",
        "RFClassifier= RandomForestClassifier(n_estimators=10, criterion='entropy', random_state=50)\n",
        "RFClassifier.fit(X_train, y_train)"
      ],
      "execution_count": 6,
      "outputs": [
        {
          "output_type": "execute_result",
          "data": {
            "text/plain": [
              "RandomForestClassifier(bootstrap=True, ccp_alpha=0.0, class_weight=None,\n",
              "                       criterion='entropy', max_depth=None, max_features='auto',\n",
              "                       max_leaf_nodes=None, max_samples=None,\n",
              "                       min_impurity_decrease=0.0, min_impurity_split=None,\n",
              "                       min_samples_leaf=1, min_samples_split=2,\n",
              "                       min_weight_fraction_leaf=0.0, n_estimators=10,\n",
              "                       n_jobs=None, oob_score=False, random_state=50, verbose=0,\n",
              "                       warm_start=False)"
            ]
          },
          "metadata": {
            "tags": []
          },
          "execution_count": 6
        }
      ]
    },
    {
      "cell_type": "code",
      "metadata": {
        "id": "agfxPXOTdSRN",
        "colab_type": "code",
        "colab": {}
      },
      "source": [
        "y_pred= RFClassifier.predict(X_test)"
      ],
      "execution_count": 0,
      "outputs": []
    },
    {
      "cell_type": "code",
      "metadata": {
        "id": "BjwdXk9gdA80",
        "colab_type": "code",
        "colab": {
          "base_uri": "https://localhost:8080/",
          "height": 35
        },
        "outputId": "579beedc-422d-4a5a-a4b4-076162627a99"
      },
      "source": [
        "from sklearn.metrics import confusion_matrix, accuracy_score\n",
        "cm= confusion_matrix(y_test, y_pred)\n",
        "cm\n",
        "score= accuracy_score(y_test, y_pred)\n",
        "print(score)"
      ],
      "execution_count": 11,
      "outputs": [
        {
          "output_type": "stream",
          "text": [
            "0.8875\n"
          ],
          "name": "stdout"
        }
      ]
    },
    {
      "cell_type": "code",
      "metadata": {
        "id": "-dF9J4nHeP0y",
        "colab_type": "code",
        "colab": {}
      },
      "source": [
        "#but how did we decide on the parameter values of our RandomForestClassifier?\n",
        "#this can be done by RandomizedSearchCV\n",
        "\n",
        "from sklearn.model_selection import RandomizedSearchCV\n",
        "from scipy.stats import randint"
      ],
      "execution_count": 0,
      "outputs": []
    },
    {
      "cell_type": "code",
      "metadata": {
        "id": "FZVCOgzTfDBX",
        "colab_type": "code",
        "colab": {}
      },
      "source": [
        "estimator= RandomForestClassifier(n_jobs=-1)\n",
        "\n",
        "rf_param_dist= { 'max_depth' : [3,5,7, 10, None],\n",
        "                'n_estimators': [100,200,300,400,500],\n",
        "                'max_features' : randint(1,3),\n",
        "                'criterion': ['gini','entropy'],\n",
        "                'bootstrap' : [True, False],\n",
        "                'min_samples_leaf': randint(1,4)\n",
        "    \n",
        "                }\n",
        "\n",
        "\n",
        "def hptuning_RSCV(estimator, parameteric_distribution, iteration_count, X_train, y_train):\n",
        "  randomizedsearchcv = RandomizedSearchCV(estimator, \n",
        "                                          param_distributions=parameteric_distribution, \n",
        "                                          n_jobs=-1,\n",
        "                                          n_iter= iteration_count,\n",
        "                                          cv=10\n",
        "                                          )\n",
        "  randomizedsearchcv.fit(X_train, y_train)\n",
        "  best_params= randomizedsearchcv.best_params_\n",
        "  best_score= randomizedsearchcv.best_score_\n",
        "  \n",
        "  return best_params, best_score\n",
        "\n"
      ],
      "execution_count": 0,
      "outputs": []
    },
    {
      "cell_type": "code",
      "metadata": {
        "id": "0Et5FoyXkE-2",
        "colab_type": "code",
        "colab": {}
      },
      "source": [
        "best_parameters, best_scoring= hptuning_RSCV(estimator, rf_param_dist, 35, X_train, y_train)"
      ],
      "execution_count": 0,
      "outputs": []
    },
    {
      "cell_type": "code",
      "metadata": {
        "id": "GPbb8J2Vkvvw",
        "colab_type": "code",
        "colab": {
          "base_uri": "https://localhost:8080/",
          "height": 121
        },
        "outputId": "f1b4723e-db3c-40d3-c03b-6a8a43cf9d48"
      },
      "source": [
        "best_parameters"
      ],
      "execution_count": 17,
      "outputs": [
        {
          "output_type": "execute_result",
          "data": {
            "text/plain": [
              "{'bootstrap': True,\n",
              " 'criterion': 'gini',\n",
              " 'max_depth': 3,\n",
              " 'max_features': 2,\n",
              " 'min_samples_leaf': 3,\n",
              " 'n_estimators': 300}"
            ]
          },
          "metadata": {
            "tags": []
          },
          "execution_count": 17
        }
      ]
    },
    {
      "cell_type": "code",
      "metadata": {
        "id": "S_BqNUskk4Q6",
        "colab_type": "code",
        "colab": {
          "base_uri": "https://localhost:8080/",
          "height": 35
        },
        "outputId": "0b7525d0-4182-42f0-d9a7-99f2809c7e28"
      },
      "source": [
        "best_scoring"
      ],
      "execution_count": 18,
      "outputs": [
        {
          "output_type": "execute_result",
          "data": {
            "text/plain": [
              "0.90625"
            ]
          },
          "metadata": {
            "tags": []
          },
          "execution_count": 18
        }
      ]
    },
    {
      "cell_type": "code",
      "metadata": {
        "id": "XP1xU0Idk-Fe",
        "colab_type": "code",
        "colab": {
          "base_uri": "https://localhost:8080/",
          "height": 35
        },
        "outputId": "55b699fb-3558-458a-ece2-495c4dc4493e"
      },
      "source": [
        "#Using these best parametric values, lets rebuild our Random Forest Classifier\n",
        "from sklearn.ensemble import RandomForestClassifier\n",
        "\n",
        "RFClassifier_final= RandomForestClassifier(n_estimators=300, \n",
        "                                           criterion='gini', \n",
        "                                           random_state=50, \n",
        "                                           bootstrap= True,\n",
        "                                           min_samples_leaf= 3,\n",
        "                                           max_depth=3,\n",
        "                                           max_features=2\n",
        "                                           )\n",
        "RFClassifier_final.fit(X_train, y_train)\n",
        "\n",
        "y_pred= RFClassifier_final.predict(X_test)\n",
        "score= accuracy_score(y_test, y_pred)\n",
        "score"
      ],
      "execution_count": 19,
      "outputs": [
        {
          "output_type": "execute_result",
          "data": {
            "text/plain": [
              "0.925"
            ]
          },
          "metadata": {
            "tags": []
          },
          "execution_count": 19
        }
      ]
    },
    {
      "cell_type": "code",
      "metadata": {
        "id": "MofpSSM5nz-6",
        "colab_type": "code",
        "colab": {
          "base_uri": "https://localhost:8080/",
          "height": 52
        },
        "outputId": "28150b56-7b90-4ea6-99a8-4237a8c2090b"
      },
      "source": [
        "#Lets run cross_val_score on our datset and check the score\n",
        "\n",
        "from sklearn.model_selection import cross_val_score\n",
        "\n",
        "cross_val= cross_val_score(RFClassifier_final, X, y, cv=10, scoring= 'accuracy')\n",
        "cross_val"
      ],
      "execution_count": 21,
      "outputs": [
        {
          "output_type": "execute_result",
          "data": {
            "text/plain": [
              "array([1.   , 0.65 , 0.9  , 1.   , 1.   , 0.85 , 0.825, 0.775, 0.875,\n",
              "       0.975])"
            ]
          },
          "metadata": {
            "tags": []
          },
          "execution_count": 21
        }
      ]
    },
    {
      "cell_type": "code",
      "metadata": {
        "id": "Z-MdiDumoc0v",
        "colab_type": "code",
        "colab": {
          "base_uri": "https://localhost:8080/",
          "height": 35
        },
        "outputId": "374c472c-9e05-43ee-fb48-0b3c7825d8dd"
      },
      "source": [
        "cross_val.mean()"
      ],
      "execution_count": 22,
      "outputs": [
        {
          "output_type": "execute_result",
          "data": {
            "text/plain": [
              "0.885"
            ]
          },
          "metadata": {
            "tags": []
          },
          "execution_count": 22
        }
      ]
    }
  ]
}